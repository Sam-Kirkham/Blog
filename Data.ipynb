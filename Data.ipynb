{
 "cells": [
  {
   "cell_type": "code",
   "execution_count": null,
   "id": "adfa31fe",
   "metadata": {},
   "outputs": [
    {
     "name": "stdout",
     "output_type": "stream",
     "text": [
      "      MATCH UP   GAME DATE W/L\n",
      "0    LAL @ NOP  05/16/2021   W\n",
      "1    LAL @ IND  05/15/2021   W\n",
      "2  LAL vs. HOU  05/12/2021   W\n",
      "3  LAL vs. NYK  05/11/2021   W\n",
      "4  LAL vs. PHX  05/09/2021   W\n",
      "       Match_Up   Game_Date W/L Home/Away\n",
      "0     LAL @ NOP  05/16/2021   W      Away\n",
      "1     LAL @ IND  05/15/2021   W      Away\n",
      "2   LAL vs. HOU  05/12/2021   W      Home\n",
      "3   LAL vs. NYK  05/11/2021   W      Home\n",
      "4   LAL vs. PHX  05/09/2021   W      Home\n",
      "5     LAL @ POR  05/07/2021   L      Away\n",
      "6     LAL @ LAC  05/06/2021   L      Away\n",
      "7   LAL vs. DEN  05/03/2021   W      Home\n",
      "8   LAL vs. TOR  05/02/2021   L      Home\n",
      "9   LAL vs. SAC  04/30/2021   L      Home\n",
      "10    LAL @ WAS  04/28/2021   L      Away\n",
      "11    LAL @ ORL  04/26/2021   W      Away\n",
      "12    LAL @ DAL  04/24/2021   L      Away\n",
      "13    LAL @ DAL  04/22/2021   L      Away\n",
      "14  LAL vs. UTA  04/19/2021   L      Home\n"
     ]
    }
   ],
   "source": [
    "import pandas as pd, json\n",
    "\n",
    "cols = [\"MATCH UP\", \"GAME DATE\", \"W/L\"]\n",
    "data = pd.read_csv(\"Lakers2009-2021.csv\", usecols = cols)\n",
    "print(data.head())\n",
    "\n",
    "data.rename(columns = {\n",
    "    'MATCH\\xa0UP' : 'Match_Up',\n",
    "    'GAME\\xa0DATE' : 'Game_Date'\n",
    "}, inplace=True)\n",
    "\n",
    "def home_away(x):\n",
    "    x = x.strip().lower()\n",
    "    if \"vs.\" in x:\n",
    "        return \"Home\"\n",
    "    elif \"@\" in x: \n",
    "        return \"Away\"\n",
    "\n",
    "data[\"Home/Away\"] = data[\"Match_Up\"].apply(home_away)\n",
    "\n",
    "print(data.head())"
   ]
  }
 ],
 "metadata": {
  "kernelspec": {
   "display_name": "base",
   "language": "python",
   "name": "python3"
  },
  "language_info": {
   "codemirror_mode": {
    "name": "ipython",
    "version": 3
   },
   "file_extension": ".py",
   "mimetype": "text/x-python",
   "name": "python",
   "nbconvert_exporter": "python",
   "pygments_lexer": "ipython3",
   "version": "3.12.2"
  }
 },
 "nbformat": 4,
 "nbformat_minor": 5
}
